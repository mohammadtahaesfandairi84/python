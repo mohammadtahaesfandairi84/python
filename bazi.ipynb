{
 "cells": [
  {
   "cell_type": "code",
   "execution_count": 48,
   "id": "1e081a85",
   "metadata": {},
   "outputs": [
    {
     "name": "stdout",
     "output_type": "stream",
     "text": [
      "you:   0 q com:  0 q\n",
      " \n",
      "you:   0 s com:  0 s\n",
      " \n",
      "you:   1 q com:  0 k\n",
      " \n",
      "you:   1 s com:  0 s\n",
      " \n",
      "you:   1 q com:  1 s\n",
      " \n",
      "you:   1 s com:  1 s\n",
      " \n",
      "you:   1 k com:  2 q\n",
      " \n",
      "you:   2 s com:  2 q\n",
      " \n",
      "you:   2 q com:  3 s\n",
      " \n"
     ]
    }
   ],
   "source": [
    "import random\n",
    "bazi = [\"s\",\"k\",\"q\"]\n",
    "shart_bazi = True\n",
    "you_point = 0\n",
    "computer_point = 0\n",
    "\n",
    "while (shart_bazi):\n",
    "    you = input(\"chose between:s , k , q \")\n",
    "    result = random.randint(0,2)\n",
    "    computer = bazi[result]\n",
    "\n",
    "    if you == 's' and computer == 'q':\n",
    "        you_point += 1\n",
    "\n",
    "    if you == \"k\" and computer == 's':\n",
    "        you_point += 1\n",
    "\n",
    "    if you == 'q' and computer == 'k':\n",
    "        you_point += 1\n",
    "\n",
    "    if you == \"k\" and computer == \"q\":\n",
    "        computer_point+=1\n",
    "\n",
    "    if you == \"q\" and computer == \"s\":\n",
    "        computer_point+=1\n",
    "\n",
    "    if you == \"s\" and computer == \"k\":\n",
    "        computer_point+=1\n",
    "    \n",
    "    \n",
    "    print(\"you:  \",you_point,you,\"com: \", computer_point,computer )\n",
    "    print(\" \")\n",
    "    if you_point>=3 or computer_point>=3:\n",
    "        shart_bazi = False\n"
   ]
  }
 ],
 "metadata": {
  "kernelspec": {
   "display_name": "Python 3",
   "language": "python",
   "name": "python3"
  },
  "language_info": {
   "codemirror_mode": {
    "name": "ipython",
    "version": 3
   },
   "file_extension": ".py",
   "mimetype": "text/x-python",
   "name": "python",
   "nbconvert_exporter": "python",
   "pygments_lexer": "ipython3",
   "version": "3.8.8"
  }
 },
 "nbformat": 4,
 "nbformat_minor": 5
}
