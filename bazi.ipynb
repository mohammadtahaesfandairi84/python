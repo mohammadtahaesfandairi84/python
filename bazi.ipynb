{
 "cells": [
  {
   "cell_type": "code",
   "execution_count": null,
   "id": "1e081a85",
   "metadata": {},
   "outputs": [],
   "source": [
    "import random\n",
    "bazi = [\"sang\",\"kaqaz\",\"qeychi\"]\n",
    "shart_bazi = True\n",
    "you_point = 0\n",
    "computer_point = 0\n",
    "\n",
    "while (shart_bazi):\n",
    "    you = input(\"chose between:sang , kaqaz , qeychi \")\n",
    "    result = random.randint(0,2)\n",
    "    computer = bazi[result]\n",
    "    if you == \"c\":\n",
    "        shart_bazi == False\n",
    "    if you == 'sang' and computer == 'qeychi':\n",
    "        you_point += 1\n",
    "\n",
    "    if you == \"kaqaz\" and computer == 'sang':\n",
    "        you_point += 1\n",
    "\n",
    "    if you == 'qeychi' and computer == 'kaqaz':\n",
    "        you_point += 1\n",
    "\n",
    "    if you == \"kaqaz\" and computer == \"qeychi\":\n",
    "        computer_point+=1\n",
    "\n",
    "    if you == \"qeychi\" and computer == \"sang\":\n",
    "        computer_point+=1\n",
    "\n",
    "    if you == \"sang\" and computer == \"kaqaz\":\n",
    "        computer_point+=1\n",
    "    \n",
    "    \n",
    "    print(\"you:  \",you_point,you,\"com: \", computer_point,computer )\n",
    "    print(\" \")\n",
    "    if you_point>=3 or computer_point>=3:\n",
    "        shart_bazi = False\n",
    "if you_point>=3 :\n",
    "    print(\"you win\")\n",
    "if computer_point >=3 :\n",
    "    print(\"computer win\")\n",
    "\n",
    "\n",
    "\n"
   ]
  }
 ],
 "metadata": {
  "kernelspec": {
   "display_name": "Python 3",
   "language": "python",
   "name": "python3"
  },
  "language_info": {
   "codemirror_mode": {
    "name": "ipython",
    "version": 3
   },
   "file_extension": ".py",
   "mimetype": "text/x-python",
   "name": "python",
   "nbconvert_exporter": "python",
   "pygments_lexer": "ipython3",
   "version": "3.8.8"
  }
 },
 "nbformat": 4,
 "nbformat_minor": 5
}
