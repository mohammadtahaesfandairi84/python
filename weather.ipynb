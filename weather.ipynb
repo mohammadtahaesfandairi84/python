{
 "cells": [
  {
   "cell_type": "code",
   "execution_count": 10,
   "id": "ffe9e9e5",
   "metadata": {},
   "outputs": [
    {
     "name": "stdout",
     "output_type": "stream",
     "text": [
      "https://api.openweathermap.org/data/2.5/weather?appid=25dee1e8aa2cc4afde71664abf46f241&q=fasa\n",
      "{'coord': {'lon': 53.6482, 'lat': 28.9383}, 'weather': [{'id': 800, 'main': 'Clear', 'description': 'clear sky', 'icon': '01n'}], 'base': 'stations', 'main': {'temp': 301.73, 'feels_like': 300.2, 'temp_min': 301.73, 'temp_max': 301.73, 'pressure': 1012, 'humidity': 14, 'sea_level': 1012, 'grnd_level': 847}, 'visibility': 10000, 'wind': {'speed': 4.12, 'deg': 190}, 'clouds': {'all': 0}, 'dt': 1760540723, 'sys': {'type': 1, 'id': 7493, 'country': 'IR', 'sunrise': 1760495172, 'sunset': 1760536552}, 'timezone': 12600, 'id': 134721, 'name': 'Fasa', 'cod': 200}\n"
     ]
    }
   ],
   "source": [
    "import requests, json\n",
    "url = \"https://api.openweathermap.org/data/2.5/weather?\"\n",
    "appid='25dee1e8aa2cc4afde71664abf46f241'\n",
    "city_name = input(\"enter city name :  \").strip()\n",
    "complete_url = url + \"appid=\" + appid +\"&q=\" + city_name\n",
    "# complete_url = url + city_name + \"&appid=$\" + key_url\n",
    "print(complete_url)\n",
    "\n",
    "respose = requests.get(complete_url)\n",
    "x = respose.json()\n",
    "print(x)\n"
   ]
  }
 ],
 "metadata": {
  "kernelspec": {
   "display_name": "Python 3",
   "language": "python",
   "name": "python3"
  },
  "language_info": {
   "codemirror_mode": {
    "name": "ipython",
    "version": 3
   },
   "file_extension": ".py",
   "mimetype": "text/x-python",
   "name": "python",
   "nbconvert_exporter": "python",
   "pygments_lexer": "ipython3",
   "version": "3.8.8"
  }
 },
 "nbformat": 4,
 "nbformat_minor": 5
}
